{
 "cells": [
  {
   "cell_type": "code",
   "execution_count": 3,
   "metadata": {},
   "outputs": [],
   "source": [
    "import mysql.connector\n",
    "#importing database\n",
    "database = mysql.connector.connect(\n",
    "    host=\"localhost\",\n",
    "    user=\"root\",\n",
    "    password=\"\",\n",
    "    database = \"pythonclass3pm\"\n",
    ")\n",
    "db = database.cursor()"
   ]
  },
  {
   "cell_type": "code",
   "execution_count": 2,
   "metadata": {},
   "outputs": [],
   "source": [
    "# CRUD\n",
    "# C-Create\n",
    "# R-Read\n",
    "# U-Update\n",
    "# D-Delete"
   ]
  },
  {
   "cell_type": "code",
   "execution_count": 3,
   "metadata": {},
   "outputs": [
    {
     "name": "stdout",
     "output_type": "stream",
     "text": [
      "(1, 'Ram', 11, 78, 76, 89, 78, 98, 460, 83, 'A')\n"
     ]
    }
   ],
   "source": [
    "#Read\n",
    "db.execute(\"SELECT * FROM student\")\n",
    "result = db.fetchall()\n",
    "for x in result:\n",
    "    print(x)\n"
   ]
  },
  {
   "cell_type": "code",
   "execution_count": 13,
   "metadata": {},
   "outputs": [
    {
     "name": "stdout",
     "output_type": "stream",
     "text": [
      "(1, 'Ram', 11)\n",
      "(2, 'Sita', 11)\n",
      "(3, 'Sita', 11)\n"
     ]
    }
   ],
   "source": [
    "#Read\n",
    "db.execute(\"SELECT Sn, Name, Class FROM student\")\n",
    "result = db.fetchall()\n",
    "for x in result:\n",
    "    print(x)\n"
   ]
  },
  {
   "cell_type": "code",
   "execution_count": 11,
   "metadata": {},
   "outputs": [],
   "source": [
    "sql = \"INSERT INTO student (Name, Class, Physics, Chemistry, Math, English, Nepali, Total, Percentage, Grade) \n",
    "VALUES ('Sita',11,89,89,98,90,91,460,90.0,'A+')\"\n",
    "db.execute(sql)\n",
    "\n",
    "database.commit()"
   ]
  },
  {
   "cell_type": "code",
   "execution_count": 17,
   "metadata": {},
   "outputs": [],
   "source": [
    "database.commit()"
   ]
  },
  {
   "cell_type": "code",
   "execution_count": 18,
   "metadata": {},
   "outputs": [
    {
     "name": "stdout",
     "output_type": "stream",
     "text": [
      "(1, 'Ram', 11, 78, 76, 89, 78, 98, 460, 83, 'A')\n",
      "(2, 'Sita', 11, 89, 89, 98, 90, 91, 460, 90, 'A+')\n",
      "(5, 'Rita', 11, 89, 89, 98, 90, 91, 460, 90, 'A+')\n",
      "(6, 'Nabin', 30, 89, 89, 98, 90, 91, 460, 90, 'A+')\n"
     ]
    }
   ],
   "source": [
    "#Read\n",
    "db.execute(\"SELECT * FROM student\")\n",
    "result = db.fetchall()\n",
    "for x in result:\n",
    "    print(x)\n"
   ]
  },
  {
   "cell_type": "code",
   "execution_count": 4,
   "metadata": {},
   "outputs": [
    {
     "name": "stdout",
     "output_type": "stream",
     "text": [
      "Enter n = 2\n",
      "Enter name = Nabina\n",
      "Enter class - 12\n",
      "Enter physics marks = 89\n",
      "Enter chemistry marks = 87\n",
      "Enter math marks = 67\n",
      "Enter english marks = 90\n",
      "Enter nepali marks = 76\n",
      "Enter name = Shyama\n",
      "Enter class - 89\n",
      "Enter physics marks = 90\n",
      "Enter chemistry marks = 78\n",
      "Enter math marks = 87\n",
      "Enter english marks = 78\n",
      "Enter nepali marks = 98\n"
     ]
    }
   ],
   "source": [
    "# WAP to take input data from users and add it on database\n",
    "n = int(input(\"Enter n = \"))\n",
    "for i in range(n):\n",
    "    name = input(\"Enter name = \")\n",
    "    clas = int(input(\"Enter class - \"))\n",
    "    physics = int(input(\"Enter physics marks = \"))\n",
    "    chemistry = int(input(\"Enter chemistry marks = \"))\n",
    "    math = int(input(\"Enter math marks = \"))\n",
    "    english = int(input(\"Enter english marks = \"))\n",
    "    nepali = int(input('Enter nepali marks = '))\n",
    "    total = sum([physics,chemistry,math,english,nepali])\n",
    "    per = total/5\n",
    "    if per>=80:\n",
    "        grade = \"A\"\n",
    "    elif per>= 60:\n",
    "        grade = \"B\"\n",
    "    elif per >= 50:\n",
    "        grade = \"C\"\n",
    "    else:\n",
    "        grade = \"F\"\n",
    "    sql = f\"INSERT INTO student (Name, Class, Physics, Chemistry, Math, English, Nepali, Total, Percentage, Grade) \n",
    "    VALUES ('{name}',{clas},{physics},{chemistry},{math},{english},{nepali},{total},{per},'{grade}')\"\n",
    "    db.execute(sql)\n",
    "\n",
    "database.commit()"
   ]
  },
  {
   "cell_type": "code",
   "execution_count": 11,
   "metadata": {},
   "outputs": [
    {
     "name": "stdout",
     "output_type": "stream",
     "text": [
      "(2, 'Sita', 11, 89, 89, 98, 90, 91, 460, 90, 'A+')\n",
      "(5, 'Rita', 11, 89, 89, 98, 90, 91, 460, 90, 'A+')\n",
      "(6, 'Nabin', 30, 89, 89, 98, 90, 91, 460, 90, 'A+')\n"
     ]
    }
   ],
   "source": [
    "#Read\n",
    "db.execute(\"SELECT * FROM student\")\n",
    "result = db.fetchall()\n",
    "for x in result:\n",
    "    print(x)\n"
   ]
  },
  {
   "cell_type": "code",
   "execution_count": 10,
   "metadata": {},
   "outputs": [],
   "source": [
    "sql = \"DELETE FROM student WHERE Grade = 'A'\"\n",
    "db.execute(sql)\n",
    "database.commit()"
   ]
  },
  {
   "cell_type": "code",
   "execution_count": 13,
   "metadata": {},
   "outputs": [],
   "source": [
    "sql = \"UPDATE student SET Name = 'Sitaram' WHERE Name = 'Sita' \"\n",
    "db.execute(sql)\n",
    "database.commit()"
   ]
  },
  {
   "cell_type": "code",
   "execution_count": null,
   "metadata": {},
   "outputs": [],
   "source": []
  }
 ],
 "metadata": {
  "kernelspec": {
   "display_name": "Python 3 (ipykernel)",
   "language": "python",
   "name": "python3"
  },
  "language_info": {
   "codemirror_mode": {
    "name": "ipython",
    "version": 3
   },
   "file_extension": ".py",
   "mimetype": "text/x-python",
   "name": "python",
   "nbconvert_exporter": "python",
   "pygments_lexer": "ipython3",
   "version": "3.7.1"
  }
 },
 "nbformat": 4,
 "nbformat_minor": 2
}

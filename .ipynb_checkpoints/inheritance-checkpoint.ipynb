{
 "cells": [
  {
   "cell_type": "code",
   "execution_count": null,
   "metadata": {},
   "outputs": [],
   "source": [
    "# class A:\n",
    "#     pass\n",
    "\n",
    "# class B(A):\n",
    "#     pass\n",
    "\n",
    "# obj = B()"
   ]
  },
  {
   "cell_type": "code",
   "execution_count": 6,
   "metadata": {},
   "outputs": [
    {
     "name": "stdout",
     "output_type": "stream",
     "text": [
      "This is class A\n",
      "This is class B\n"
     ]
    }
   ],
   "source": [
    "class A:\n",
    "    print(\"This is class A\")\n",
    "\n",
    "class B(A):\n",
    "    print(\"This is class B\")\n",
    "\n",
    "obj = A()"
   ]
  },
  {
   "cell_type": "code",
   "execution_count": 12,
   "metadata": {},
   "outputs": [
    {
     "name": "stdout",
     "output_type": "stream",
     "text": [
      "This is class B Ram 34\n",
      "This is class A Ram 34\n",
      "This is class A Ram 34\n"
     ]
    }
   ],
   "source": [
    "class A:\n",
    "    def __init__(self):\n",
    "        self.name = \"Ram\"\n",
    "        self.age = 34\n",
    "        \n",
    "    def a(self):\n",
    "        print(\"This is class A\",self.name,self.age)\n",
    "\n",
    "class B(A):\n",
    "    def b(self):\n",
    "        print(\"This is class B\",self.name,self.age)\n",
    "\n",
    "obj = B()\n",
    "obj.b()\n",
    "obj.a()\n",
    "\n",
    "obj1 =A()\n",
    "obj1.a()"
   ]
  },
  {
   "cell_type": "code",
   "execution_count": 13,
   "metadata": {},
   "outputs": [
    {
     "name": "stdout",
     "output_type": "stream",
     "text": [
      "Enter name = Ram\n",
      "Enter age = 34\n",
      "This is class A Ram 34\n",
      "This is class B Ram 34\n"
     ]
    }
   ],
   "source": [
    "class A:\n",
    "    def __init__(self):\n",
    "        self.name = input(\"Enter name = \")\n",
    "        self.age = int(input(\"Enter age = \"))\n",
    "        \n",
    "    def a(self):\n",
    "        print(\"This is class A\",self.name,self.age)\n",
    "\n",
    "class B(A):\n",
    "    def b(self):\n",
    "        print(\"This is class B\",self.name,self.age)\n",
    "\n",
    "obj = B()\n",
    "obj.a()\n",
    "obj.b()"
   ]
  },
  {
   "cell_type": "code",
   "execution_count": 18,
   "metadata": {},
   "outputs": [
    {
     "name": "stdout",
     "output_type": "stream",
     "text": [
      "Ram Nepal\n"
     ]
    }
   ],
   "source": [
    "class Profile:\n",
    "    def __init__(self, name, address):\n",
    "        self.name = name\n",
    "        self.address = address\n",
    "\n",
    "\n",
    "class Hr(Profile):\n",
    "    def info(self):\n",
    "        print(self.name, self.address)\n",
    "\n",
    "x = Hr(\"Ram\", \"Nepal\")\n",
    "x.info()\n"
   ]
  },
  {
   "cell_type": "code",
   "execution_count": 25,
   "metadata": {},
   "outputs": [
    {
     "name": "stdout",
     "output_type": "stream",
     "text": [
      "Ram Nepal\n"
     ]
    }
   ],
   "source": [
    "class Profile:\n",
    "    def __init__(self, name, add):\n",
    "        self.name = name\n",
    "        self.add = add\n",
    "\n",
    "\n",
    "class Hr(Profile):\n",
    "    def __init__(self,name,add,age):\n",
    "        self.age = age\n",
    "        Profile.__init__(self, name, add)\n",
    "        \n",
    "    def info(self):\n",
    "        print(self.name, self.add)\n",
    "\n",
    "x = Hr(\"Ram\", \"Nepal\",34)\n",
    "x.info()\n"
   ]
  },
  {
   "cell_type": "code",
   "execution_count": 26,
   "metadata": {},
   "outputs": [
    {
     "name": "stdout",
     "output_type": "stream",
     "text": [
      "Hello, welcome John from USA to  Nepal\n"
     ]
    }
   ],
   "source": [
    "class Profile:\n",
    "    def __init__(self, name, address):\n",
    "        self.name = name\n",
    "        self.address = address\n",
    "\n",
    "    def info(self):\n",
    "        print(self.name, self.address)\n",
    "\n",
    "class Student(Profile):\n",
    "    def __init__(self, name, address, country):\n",
    "        Profile.__init__(self, name, address)\n",
    "        self.country = country\n",
    "\n",
    "    def hello(self):\n",
    "        print(\"Hello, welcome\", self.name,\"from\", self.address, \"to \", self.country)\n",
    "\n",
    "x = Student(\"John\", \"USA\", \"Nepal\")\n",
    "x.hello()\n"
   ]
  },
  {
   "cell_type": "code",
   "execution_count": 27,
   "metadata": {},
   "outputs": [],
   "source": [
    "class A:\n",
    "    pass\n",
    "class B(A):\n",
    "    pass\n",
    "class C(B):\n",
    "    pass\n",
    "\n",
    "obj = C()"
   ]
  },
  {
   "cell_type": "code",
   "execution_count": null,
   "metadata": {},
   "outputs": [],
   "source": [
    "class A:\n",
    "    pass\n",
    "\n",
    "class B:\n",
    "    pass\n",
    "\n",
    "class C(A,B):\n",
    "    pass\n",
    "\n",
    "obj = C()"
   ]
  },
  {
   "cell_type": "code",
   "execution_count": 6,
   "metadata": {},
   "outputs": [
    {
     "name": "stdout",
     "output_type": "stream",
     "text": [
      "Hello, welcome John from USA to  Nepal 56\n"
     ]
    }
   ],
   "source": [
    "class Profile:\n",
    "    def __init__(self, name, address):\n",
    "        self.name = name\n",
    "        self.address = address\n",
    "\n",
    "    def info(self):\n",
    "        print(self.name, self.address)\n",
    "\n",
    "class Student(Profile):\n",
    "    def __init__(self, name, address, country):\n",
    "        Profile.__init__(self, name, address)\n",
    "        self.country = country\n",
    "        \n",
    "class Detail(Student):\n",
    "    def __init__(self, name, address, country,age):\n",
    "        Student.__init__(self, name, address,country)\n",
    "        self.age = age\n",
    "    def hello(self):\n",
    "        print(\"Hello, welcome\", self.name,\"from\", self.address, \"to \", self.country,self.age)\n",
    "x = Detail(\"John\", \"USA\", \"Nepal\",56)\n",
    "x.hello()\n"
   ]
  },
  {
   "cell_type": "code",
   "execution_count": 11,
   "metadata": {},
   "outputs": [
    {
     "name": "stdout",
     "output_type": "stream",
     "text": [
      "Hello, welcome John from USA to  Nepal 56\n"
     ]
    }
   ],
   "source": [
    "class Profile:\n",
    "    def __init__(self, name, address):\n",
    "        self.name = name\n",
    "        self.address = address\n",
    "\n",
    "    def info(self):\n",
    "        print(self.name, self.address)\n",
    "\n",
    "class Student:\n",
    "    def __init__(self,country):\n",
    "        self.country = country\n",
    "\n",
    "    \n",
    "        \n",
    "class Detail(Profile,Student):\n",
    "    def __init__(self, name, address, country,age):\n",
    "        Student.__init__(self,country)\n",
    "        Profile.__init__(self, name, address)\n",
    "        self.age = age\n",
    "        \n",
    "    def hello(self):\n",
    "        print(\"Hello, welcome\", self.name,\"from\", self.address, \"to \", self.country,self.age)\n",
    "\n",
    "x = Detail(\"John\", \"USA\", \"Nepal\",56)\n",
    "x.hello()\n"
   ]
  },
  {
   "cell_type": "code",
   "execution_count": 14,
   "metadata": {},
   "outputs": [
    {
     "name": "stdout",
     "output_type": "stream",
     "text": [
      "Enter age = 23\n",
      "Enter name = Ram\n",
      "Enter add = Kathmandu\n",
      "Enter Country = Nepal\n",
      "Hello, welcome Ram from Kathmandu to  Nepal 23\n"
     ]
    }
   ],
   "source": [
    "class Profile:\n",
    "    def __init__(self):\n",
    "        self.name = input(\"Enter name = \")\n",
    "        self.address = input(\"Enter add = \")\n",
    "\n",
    "    def info(self):\n",
    "        print(self.name, self.address)\n",
    "\n",
    "class Student:\n",
    "    def __init__(self):\n",
    "        self.country = input(\"Enter Country = \")\n",
    "\n",
    "    \n",
    "        \n",
    "class Detail(Profile,Student):\n",
    "    def __init__(self):\n",
    "        self.age = int(input(\"Enter age = \"))\n",
    "        Profile.__init__(self)\n",
    "        Student.__init__(self)\n",
    "        \n",
    "    def hello(self):\n",
    "        print(\"Hello, welcome\", self.name,\"from\", self.address, \"to \", self.country,self.age)\n",
    "\n",
    "x = Detail()\n",
    "x.hello()\n"
   ]
  },
  {
   "cell_type": "code",
   "execution_count": 16,
   "metadata": {},
   "outputs": [
    {
     "name": "stdout",
     "output_type": "stream",
     "text": [
      "Enter name = Ram\n",
      "Enter age = 23\n",
      "Ram\n",
      "23\n"
     ]
    }
   ],
   "source": [
    "# Public Attributes\n",
    "class A:\n",
    "    def __init__(self):\n",
    "        self.name = input(\"Enter name = \")\n",
    "        self.age = int(input(\"Enter age = \"))\n",
    "        \n",
    "\n",
    "\n",
    "\n",
    "obj = A()\n",
    "print(obj.name)\n",
    "print(obj.age)"
   ]
  },
  {
   "cell_type": "code",
   "execution_count": 18,
   "metadata": {},
   "outputs": [
    {
     "name": "stdout",
     "output_type": "stream",
     "text": [
      "Enter name = Ram\n",
      "Enter age = 34\n",
      "Ram 34\n",
      "None\n"
     ]
    }
   ],
   "source": [
    "# Protected Attributes\n",
    "class A:\n",
    "    def __init__(self):\n",
    "        self._name = input(\"Enter name = \")\n",
    "        self._age = int(input(\"Enter age = \"))\n",
    "        \n",
    "\n",
    "class B(A):\n",
    "    def b(self):\n",
    "        print(self._name,self._age)\n",
    "\n",
    "\n",
    "obj = B()\n",
    "obj.b()\n"
   ]
  },
  {
   "cell_type": "code",
   "execution_count": 22,
   "metadata": {},
   "outputs": [
    {
     "name": "stdout",
     "output_type": "stream",
     "text": [
      "Enter name = ram\n",
      "Enter age = 34\n",
      "Enter add = Kathmandu\n",
      "Kathmandu\n"
     ]
    }
   ],
   "source": [
    "# Private Attributes\n",
    "class A:\n",
    "    def __init__(self):\n",
    "        self.__name = input(\"Enter name = \")\n",
    "        self.__age = int(input(\"Enter age = \"))\n",
    "        self._add = input(\"Enter add = \")\n",
    "        \n",
    "\n",
    "class B(A):\n",
    "    def b(self):\n",
    "        print(self._add)\n",
    "\n",
    "\n",
    "obj = B()\n",
    "obj.b()\n"
   ]
  },
  {
   "cell_type": "code",
   "execution_count": 25,
   "metadata": {},
   "outputs": [
    {
     "name": "stdout",
     "output_type": "stream",
     "text": [
      "Enter name = Ram\n",
      "Enter age = 34\n",
      "Ram\n",
      "34\n"
     ]
    }
   ],
   "source": [
    "# Private Attributes\n",
    "class A:\n",
    "    def __init__(self):\n",
    "        self.__name = input(\"Enter name = \")\n",
    "        self._age = int(input(\"Enter age = \"))\n",
    "        \n",
    "\n",
    "\n",
    "\n",
    "obj = A()\n",
    "print(obj._A__name)\n",
    "print(obj._age)"
   ]
  },
  {
   "cell_type": "code",
   "execution_count": 27,
   "metadata": {},
   "outputs": [
    {
     "name": "stdout",
     "output_type": "stream",
     "text": [
      "The history saving thread hit an unexpected error (OperationalError('database or disk is full')).History will not be written to the database.\n",
      "Enter age = 23\n",
      "Enter name = Ram\n",
      "Enter add = Kathmandu\n",
      "Enter Country = Nepal\n",
      "Hello, welcome Ram from to  Nepal 23\n",
      "Ram\n"
     ]
    }
   ],
   "source": [
    "class Profile:\n",
    "    def __init__(self):\n",
    "        self.name = input(\"Enter name = \")\n",
    "        self.__address = input(\"Enter add = \")\n",
    "\n",
    "    def info(self):\n",
    "        print(self.name, self.address)\n",
    "\n",
    "class Student:\n",
    "    def __init__(self):\n",
    "        self._country = input(\"Enter Country = \")\n",
    "\n",
    "\n",
    "class Detail(Profile,Student):\n",
    "    def __init__(self):\n",
    "        self.age = int(input(\"Enter age = \"))\n",
    "        Profile.__init__(self)\n",
    "        Student.__init__(self)\n",
    "        \n",
    "    def hello(self):\n",
    "        print(\"Hello, welcome\", self.name,\"from\",\"to \", self.country,self.age)\n",
    "\n",
    "x = Detail()\n",
    "x.hello()\n",
    "print(x.name)"
   ]
  },
  {
   "cell_type": "code",
   "execution_count": null,
   "metadata": {},
   "outputs": [],
   "source": []
  }
 ],
 "metadata": {
  "kernelspec": {
   "display_name": "Python 3 (ipykernel)",
   "language": "python",
   "name": "python3"
  },
  "language_info": {
   "codemirror_mode": {
    "name": "ipython",
    "version": 3
   },
   "file_extension": ".py",
   "mimetype": "text/x-python",
   "name": "python",
   "nbconvert_exporter": "python",
   "pygments_lexer": "ipython3",
   "version": "3.7.1"
  }
 },
 "nbformat": 4,
 "nbformat_minor": 2
}

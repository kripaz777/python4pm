{
 "cells": [
  {
   "cell_type": "code",
   "execution_count": 2,
   "metadata": {},
   "outputs": [],
   "source": [
    "# Dictionary\n",
    "# -Indexed\n",
    "# -Ordered\n",
    "# -Duplicate value and Multiple data\n",
    "# -Mutable"
   ]
  },
  {
   "cell_type": "code",
   "execution_count": 3,
   "metadata": {},
   "outputs": [],
   "source": [
    "d = dict()"
   ]
  },
  {
   "cell_type": "code",
   "execution_count": 4,
   "metadata": {},
   "outputs": [],
   "source": [
    "# d = {<key>:<value>,<key>:<value>,....}"
   ]
  },
  {
   "cell_type": "code",
   "execution_count": 7,
   "metadata": {},
   "outputs": [
    {
     "data": {
      "text/plain": [
       "'Cat'"
      ]
     },
     "execution_count": 7,
     "metadata": {},
     "output_type": "execute_result"
    }
   ],
   "source": [
    "d = {\"a\":\"Apple\",\"b\":\"Ball\",\"c\":\"Cat\"}\n",
    "d[\"c\"]"
   ]
  },
  {
   "cell_type": "code",
   "execution_count": 10,
   "metadata": {},
   "outputs": [
    {
     "name": "stdout",
     "output_type": "stream",
     "text": [
      "{'a': 'Apple', 'b': 'Ball', 'c': 'Cat'}\n",
      "<class 'dict'>\n"
     ]
    }
   ],
   "source": [
    "d = {\"a\":\"Apple\",\"b\":\"Ball\",\"c\":\"Cat\"}\n",
    "print(d)\n",
    "print(type(d))"
   ]
  },
  {
   "cell_type": "code",
   "execution_count": 12,
   "metadata": {},
   "outputs": [
    {
     "ename": "TypeError",
     "evalue": "unsupported operand type(s) for +: 'dict' and 'dict'",
     "output_type": "error",
     "traceback": [
      "\u001b[1;31m---------------------------------------------------------------------------\u001b[0m",
      "\u001b[1;31mTypeError\u001b[0m                                 Traceback (most recent call last)",
      "\u001b[1;32m~\\AppData\\Local\\Temp/ipykernel_13004/1022338613.py\u001b[0m in \u001b[0;36m<module>\u001b[1;34m\u001b[0m\n\u001b[0;32m      1\u001b[0m \u001b[0md\u001b[0m \u001b[1;33m=\u001b[0m \u001b[1;33m{\u001b[0m\u001b[1;34m\"a\"\u001b[0m\u001b[1;33m:\u001b[0m\u001b[1;34m\"Apple\"\u001b[0m\u001b[1;33m,\u001b[0m\u001b[1;34m\"b\"\u001b[0m\u001b[1;33m:\u001b[0m\u001b[1;34m\"Ball\"\u001b[0m\u001b[1;33m,\u001b[0m\u001b[1;34m\"c\"\u001b[0m\u001b[1;33m:\u001b[0m\u001b[1;34m\"Cat\"\u001b[0m\u001b[1;33m}\u001b[0m\u001b[1;33m\u001b[0m\u001b[1;33m\u001b[0m\u001b[0m\n\u001b[0;32m      2\u001b[0m \u001b[0ma\u001b[0m \u001b[1;33m=\u001b[0m \u001b[1;33m{\u001b[0m\u001b[1;34m\"d\"\u001b[0m\u001b[1;33m:\u001b[0m\u001b[1;34m\"dog\"\u001b[0m\u001b[1;33m}\u001b[0m\u001b[1;33m\u001b[0m\u001b[1;33m\u001b[0m\u001b[0m\n\u001b[1;32m----> 3\u001b[1;33m \u001b[0mprint\u001b[0m\u001b[1;33m(\u001b[0m\u001b[0ma\u001b[0m\u001b[1;33m+\u001b[0m\u001b[0md\u001b[0m\u001b[1;33m)\u001b[0m\u001b[1;33m\u001b[0m\u001b[1;33m\u001b[0m\u001b[0m\n\u001b[0m",
      "\u001b[1;31mTypeError\u001b[0m: unsupported operand type(s) for +: 'dict' and 'dict'"
     ]
    }
   ],
   "source": [
    "d = {\"a\":\"Apple\",\"b\":\"Ball\",\"c\":\"Cat\"}\n",
    "a = {\"d\":\"dog\"}\n",
    "print(a+d)"
   ]
  },
  {
   "cell_type": "code",
   "execution_count": 13,
   "metadata": {},
   "outputs": [
    {
     "ename": "TypeError",
     "evalue": "unsupported operand type(s) for *: 'dict' and 'int'",
     "output_type": "error",
     "traceback": [
      "\u001b[1;31m---------------------------------------------------------------------------\u001b[0m",
      "\u001b[1;31mTypeError\u001b[0m                                 Traceback (most recent call last)",
      "\u001b[1;32m~\\AppData\\Local\\Temp/ipykernel_13004/2199320209.py\u001b[0m in \u001b[0;36m<module>\u001b[1;34m\u001b[0m\n\u001b[0;32m      1\u001b[0m \u001b[0md\u001b[0m \u001b[1;33m=\u001b[0m \u001b[1;33m{\u001b[0m\u001b[1;34m\"a\"\u001b[0m\u001b[1;33m:\u001b[0m\u001b[1;34m\"Apple\"\u001b[0m\u001b[1;33m,\u001b[0m\u001b[1;34m\"b\"\u001b[0m\u001b[1;33m:\u001b[0m\u001b[1;34m\"Ball\"\u001b[0m\u001b[1;33m,\u001b[0m\u001b[1;34m\"c\"\u001b[0m\u001b[1;33m:\u001b[0m\u001b[1;34m\"Cat\"\u001b[0m\u001b[1;33m}\u001b[0m\u001b[1;33m\u001b[0m\u001b[1;33m\u001b[0m\u001b[0m\n\u001b[1;32m----> 2\u001b[1;33m \u001b[0md\u001b[0m\u001b[1;33m*\u001b[0m\u001b[1;36m2\u001b[0m\u001b[1;33m\u001b[0m\u001b[1;33m\u001b[0m\u001b[0m\n\u001b[0m",
      "\u001b[1;31mTypeError\u001b[0m: unsupported operand type(s) for *: 'dict' and 'int'"
     ]
    }
   ],
   "source": [
    "d = {\"a\":\"Apple\",\"b\":\"Ball\",\"c\":\"Cat\"}\n",
    "d*2"
   ]
  },
  {
   "cell_type": "code",
   "execution_count": 14,
   "metadata": {},
   "outputs": [
    {
     "name": "stdout",
     "output_type": "stream",
     "text": [
      "3\n"
     ]
    }
   ],
   "source": [
    "d = {\"a\":\"Apple\",\"b\":\"Ball\",\"c\":\"Cat\"}\n",
    "print(len(d))"
   ]
  },
  {
   "cell_type": "code",
   "execution_count": 15,
   "metadata": {},
   "outputs": [
    {
     "data": {
      "text/plain": [
       "{'a': 'Apple', 'b': 'Ball', 'c': 'Cat', 'A': 'Apple'}"
      ]
     },
     "execution_count": 15,
     "metadata": {},
     "output_type": "execute_result"
    }
   ],
   "source": [
    "d = {\"a\":\"Apple\",\"b\":\"Ball\",\"c\":\"Cat\",\"A\":\"Apple\"}\n",
    "d"
   ]
  },
  {
   "cell_type": "code",
   "execution_count": 16,
   "metadata": {},
   "outputs": [
    {
     "data": {
      "text/plain": [
       "{'A': 'Ant', 'b': 'Ball', 'c': 'Cat'}"
      ]
     },
     "execution_count": 16,
     "metadata": {},
     "output_type": "execute_result"
    }
   ],
   "source": [
    "d = {\"A\":\"Apple\",\"b\":\"Ball\",\"c\":\"Cat\",\"A\":\"Ant\"}\n",
    "d"
   ]
  },
  {
   "cell_type": "code",
   "execution_count": 19,
   "metadata": {},
   "outputs": [
    {
     "data": {
      "text/plain": [
       "{'a': 'Apple', 'b': 'Ball'}"
      ]
     },
     "execution_count": 19,
     "metadata": {},
     "output_type": "execute_result"
    }
   ],
   "source": [
    "a = {}\n",
    "a[\"a\"] = \"Apple\"\n",
    "a[\"b\"] = \"Ball\"\n",
    "a"
   ]
  },
  {
   "cell_type": "code",
   "execution_count": 20,
   "metadata": {},
   "outputs": [
    {
     "name": "stdout",
     "output_type": "stream",
     "text": [
      "Enter n = 4\n",
      "Enter namea\n",
      "Enter phone 9867666543\n",
      "Enter nameShyam\n",
      "Enter phone 9856556543\n",
      "Enter nameHari\n",
      "Enter phone 9867665654\n",
      "Enter nameNita\n",
      "Enter phone 9878776765\n",
      "{'a': '9867666543', 'Shyam': '9856556543', 'Hari': '9867665654', 'Nita': '9878776765'}\n"
     ]
    }
   ],
   "source": [
    "d = {}\n",
    "n = int(input(\"Enter n = \"))\n",
    "for i in range(n):\n",
    "    name = input(\"Enter name\")\n",
    "    phone = input(\"Enter phone \")\n",
    "    d[name] = phone\n",
    "print(d)"
   ]
  },
  {
   "cell_type": "code",
   "execution_count": 21,
   "metadata": {},
   "outputs": [
    {
     "name": "stdout",
     "output_type": "stream",
     "text": [
      "a\n",
      "Shyam\n",
      "Hari\n",
      "Nita\n"
     ]
    }
   ],
   "source": [
    "d = {'a': '9867666543', 'Shyam': '9856556543', 'Hari': '9867665654', 'Nita': '9878776765'}\n",
    "for i in d:\n",
    "    print(i)"
   ]
  },
  {
   "cell_type": "code",
   "execution_count": 22,
   "metadata": {},
   "outputs": [
    {
     "name": "stdout",
     "output_type": "stream",
     "text": [
      "9867666543\n",
      "9856556543\n",
      "9867665654\n",
      "9878776765\n"
     ]
    }
   ],
   "source": [
    "d = {'a': '9867666543', 'Shyam': '9856556543', 'Hari': '9867665654', 'Nita': '9878776765'}\n",
    "for i in d.values():\n",
    "    print(i)"
   ]
  },
  {
   "cell_type": "code",
   "execution_count": 23,
   "metadata": {},
   "outputs": [
    {
     "name": "stdout",
     "output_type": "stream",
     "text": [
      "('a', '9867666543')\n",
      "('Shyam', '9856556543')\n",
      "('Hari', '9867665654')\n",
      "('Nita', '9878776765')\n"
     ]
    }
   ],
   "source": [
    "d = {'a': '9867666543', 'Shyam': '9856556543', 'Hari': '9867665654', 'Nita': '9878776765'}\n",
    "for i in d.items():\n",
    "    print(i)"
   ]
  },
  {
   "cell_type": "code",
   "execution_count": 24,
   "metadata": {},
   "outputs": [
    {
     "name": "stdout",
     "output_type": "stream",
     "text": [
      "[('a', '9867666543'), ('Shyam', '9856556543'), ('Hari', '9867665654'), ('Nita', '9878776765')]\n"
     ]
    }
   ],
   "source": [
    "l = []\n",
    "d = {'a': '9867666543', 'Shyam': '9856556543', 'Hari': '9867665654', 'Nita': '9878776765'}\n",
    "for i in d.items():\n",
    "    l.append(i)\n",
    "print(l)"
   ]
  },
  {
   "cell_type": "code",
   "execution_count": 25,
   "metadata": {},
   "outputs": [
    {
     "data": {
      "text/plain": [
       "{'a': '9867666543',\n",
       " 'Shyam': '9856556543',\n",
       " 'Hari': '9867665654',\n",
       " 'Nita': '9878776765'}"
      ]
     },
     "execution_count": 25,
     "metadata": {},
     "output_type": "execute_result"
    }
   ],
   "source": [
    "l = [('a', '9867666543'), ('Shyam', '9856556543'), ('Hari', '9867665654'), ('Nita', '9878776765')]\n",
    "dict(l)"
   ]
  },
  {
   "cell_type": "code",
   "execution_count": 26,
   "metadata": {},
   "outputs": [
    {
     "data": {
      "text/plain": [
       "{'a': 9700000000,\n",
       " 'Shyam': '9856556543',\n",
       " 'Hari': '9867665654',\n",
       " 'Nita': '9878776765'}"
      ]
     },
     "execution_count": 26,
     "metadata": {},
     "output_type": "execute_result"
    }
   ],
   "source": [
    "d = {'a': '9867666543', 'Shyam': '9856556543', 'Hari': '9867665654', 'Nita': '9878776765'}\n",
    "d['a'] = 9700000000\n",
    "d"
   ]
  },
  {
   "cell_type": "code",
   "execution_count": 27,
   "metadata": {},
   "outputs": [
    {
     "data": {
      "text/plain": [
       "{'Shyam': '9856556543',\n",
       " 'Hari': '9867665654',\n",
       " 'Nita': '9878776765',\n",
       " 'Anil': 9700000000}"
      ]
     },
     "execution_count": 27,
     "metadata": {},
     "output_type": "execute_result"
    }
   ],
   "source": [
    "d = {'Shyam': '9856556543', 'Hari': '9867665654', 'Nita': '9878776765'}\n",
    "d['Anil'] = 9700000000\n",
    "d"
   ]
  },
  {
   "cell_type": "code",
   "execution_count": 28,
   "metadata": {},
   "outputs": [
    {
     "data": {
      "text/plain": [
       "{'Hari': '9867665654', 'Nita': '9878776765'}"
      ]
     },
     "execution_count": 28,
     "metadata": {},
     "output_type": "execute_result"
    }
   ],
   "source": [
    "# del pop\n",
    "d = {'Shyam': '9856556543', 'Hari': '9867665654', 'Nita': '9878776765'}\n",
    "del d['Shyam']\n",
    "d"
   ]
  },
  {
   "cell_type": "code",
   "execution_count": 29,
   "metadata": {},
   "outputs": [
    {
     "data": {
      "text/plain": [
       "{'Hari': '9867665654', 'Nita': '9878776765'}"
      ]
     },
     "execution_count": 29,
     "metadata": {},
     "output_type": "execute_result"
    }
   ],
   "source": [
    "d = {'Shyam': '9856556543', 'Hari': '9867665654', 'Nita': '9878776765'}\n",
    "d.pop('Shyam')\n",
    "d"
   ]
  },
  {
   "cell_type": "code",
   "execution_count": 31,
   "metadata": {},
   "outputs": [
    {
     "data": {
      "text/plain": [
       "{'Hari': '9867665654', 'Nita': '9878776765'}"
      ]
     },
     "execution_count": 31,
     "metadata": {},
     "output_type": "execute_result"
    }
   ],
   "source": [
    "d = {'Shyam': '9856556543', 'Hari': '9867665654', 'Nita': '9878776765'}\n",
    "d.pop('Shyam')\n",
    "d"
   ]
  },
  {
   "cell_type": "code",
   "execution_count": 32,
   "metadata": {},
   "outputs": [
    {
     "data": {
      "text/plain": [
       "'9856556543'"
      ]
     },
     "execution_count": 32,
     "metadata": {},
     "output_type": "execute_result"
    }
   ],
   "source": [
    "#tuple as key\n",
    "d = {('Shyam','Nabin'): '9856556543', 'Hari': '9867665654', 'Nita': '9878776765'}\n",
    "d[('Shyam','Nabin')]"
   ]
  },
  {
   "cell_type": "code",
   "execution_count": 34,
   "metadata": {},
   "outputs": [
    {
     "ename": "KeyError",
     "evalue": "('Shyam',)",
     "output_type": "error",
     "traceback": [
      "\u001b[1;31m---------------------------------------------------------------------------\u001b[0m",
      "\u001b[1;31mKeyError\u001b[0m                                  Traceback (most recent call last)",
      "\u001b[1;32m~\\AppData\\Local\\Temp/ipykernel_13004/580780591.py\u001b[0m in \u001b[0;36m<module>\u001b[1;34m\u001b[0m\n\u001b[0;32m      1\u001b[0m \u001b[1;31m#tuple as key\u001b[0m\u001b[1;33m\u001b[0m\u001b[1;33m\u001b[0m\u001b[1;33m\u001b[0m\u001b[0m\n\u001b[0;32m      2\u001b[0m \u001b[0md\u001b[0m \u001b[1;33m=\u001b[0m \u001b[1;33m{\u001b[0m\u001b[1;33m(\u001b[0m\u001b[1;34m'Shyam'\u001b[0m\u001b[1;33m,\u001b[0m\u001b[1;34m'Nabin'\u001b[0m\u001b[1;33m)\u001b[0m\u001b[1;33m:\u001b[0m \u001b[1;34m'9856556543'\u001b[0m\u001b[1;33m,\u001b[0m \u001b[1;34m'Hari'\u001b[0m\u001b[1;33m:\u001b[0m \u001b[1;34m'9867665654'\u001b[0m\u001b[1;33m,\u001b[0m \u001b[1;34m'Nita'\u001b[0m\u001b[1;33m:\u001b[0m \u001b[1;34m'9878776765'\u001b[0m\u001b[1;33m}\u001b[0m\u001b[1;33m\u001b[0m\u001b[1;33m\u001b[0m\u001b[0m\n\u001b[1;32m----> 3\u001b[1;33m \u001b[0md\u001b[0m\u001b[1;33m[\u001b[0m\u001b[1;33m(\u001b[0m\u001b[1;34m'Shyam'\u001b[0m\u001b[1;33m,\u001b[0m\u001b[1;33m)\u001b[0m\u001b[1;33m]\u001b[0m\u001b[1;33m\u001b[0m\u001b[1;33m\u001b[0m\u001b[0m\n\u001b[0m",
      "\u001b[1;31mKeyError\u001b[0m: ('Shyam',)"
     ]
    }
   ],
   "source": [
    "#tuple as key\n",
    "d = {('Shyam','Nabin'): '9856556543', 'Hari': '9867665654', 'Nita': '9878776765'}\n",
    "d[('Shyam',)]"
   ]
  },
  {
   "cell_type": "code",
   "execution_count": 35,
   "metadata": {},
   "outputs": [
    {
     "data": {
      "text/plain": [
       "['9856556543', '9856552321']"
      ]
     },
     "execution_count": 35,
     "metadata": {},
     "output_type": "execute_result"
    }
   ],
   "source": [
    "# list inside dictionary\n",
    "d = {'Shyam': ['9856556543','9856552321'], 'Hari': ['9867665654','9807667654'], 'Nita': ['9878776765','9856554543']}\n",
    "d['Shyam']"
   ]
  },
  {
   "cell_type": "code",
   "execution_count": 36,
   "metadata": {},
   "outputs": [
    {
     "name": "stdout",
     "output_type": "stream",
     "text": [
      "Enter n = 2\n",
      "Enter nameRam\n",
      "Enter phone 9856556543\n",
      "Enter phone9808556543\n",
      "Enter nameShyam\n",
      "Enter phone 9845443432\n",
      "Enter phone980800066765\n",
      "{'Ram': ['9856556543', '9808556543'], 'Shyam': ['9845443432', '980800066765']}\n"
     ]
    }
   ],
   "source": [
    "d = {}\n",
    "n = int(input(\"Enter n = \"))\n",
    "for i in range(n):\n",
    "    name = input(\"Enter name\")\n",
    "    ntc_phone = input(\"Enter phone \")\n",
    "    ncell_phone = input(\"Enter phone\")\n",
    "    d[name] = [ntc_phone,ncell_phone]\n",
    "print(d)"
   ]
  },
  {
   "cell_type": "code",
   "execution_count": 37,
   "metadata": {},
   "outputs": [
    {
     "data": {
      "text/plain": [
       "{'Ram': ['9856556543', '9808556543'],\n",
       " 'Shyam': ['9845443432', '980800066765'],\n",
       " 'Hari': [9856554543, 9808556543]}"
      ]
     },
     "execution_count": 37,
     "metadata": {},
     "output_type": "execute_result"
    }
   ],
   "source": [
    "d = {'Ram': ['9856556543', '9808556543'], 'Shyam': ['9845443432', '980800066765']}\n",
    "d['Hari'] = [9856554543,9808556543]\n",
    "d"
   ]
  },
  {
   "cell_type": "code",
   "execution_count": 40,
   "metadata": {},
   "outputs": [
    {
     "data": {
      "text/plain": [
       "{'Ram': [9841667654, '9808556543'], 'Shyam': ['9845443432', '980800066765']}"
      ]
     },
     "execution_count": 40,
     "metadata": {},
     "output_type": "execute_result"
    }
   ],
   "source": [
    "d = {'Ram': ['9856556543', '9808556543'], 'Shyam': ['9845443432', '980800066765']}\n",
    "d['Ram'][0] = 9841667654\n",
    "d"
   ]
  },
  {
   "cell_type": "code",
   "execution_count": 1,
   "metadata": {},
   "outputs": [
    {
     "name": "stdout",
     "output_type": "stream",
     "text": [
      "Enter n = 2\n",
      "Enter nameRam\n",
      "Enter age 56\n",
      "Enter addKathmandu\n",
      "Enter nameShyam\n",
      "Enter age 34\n",
      "Enter addBhaktapur\n"
     ]
    },
    {
     "data": {
      "text/plain": [
       "{'Name': ['Ram', 'Shyam'],\n",
       " 'Age': ['56', '34'],\n",
       " 'Address': ['Kathmandu', 'Bhaktapur']}"
      ]
     },
     "execution_count": 1,
     "metadata": {},
     "output_type": "execute_result"
    }
   ],
   "source": [
    "d = {}\n",
    "na = []\n",
    "ag = []\n",
    "ad = []\n",
    "n = int(input(\"Enter n = \"))\n",
    "for i in range(n):\n",
    "    name = input(\"Enter name\")\n",
    "    age = input(\"Enter age \")\n",
    "    add = input(\"Enter add\")\n",
    "    na.append(name)\n",
    "    ag.append(age)\n",
    "    ad.append(add)\n",
    "    \n",
    "d = {\"Name\":na,\"Age\":ag,\"Address\":ad}\n",
    "d"
   ]
  },
  {
   "cell_type": "code",
   "execution_count": 5,
   "metadata": {},
   "outputs": [
    {
     "data": {
      "text/plain": [
       "{'Name': ['Ram', 'Shyam', 'Nabin'],\n",
       " 'Age': ['56', '34', 23],\n",
       " 'Address': ['Kathmandu', 'Bhaktapur', 'Kathmandu']}"
      ]
     },
     "execution_count": 5,
     "metadata": {},
     "output_type": "execute_result"
    }
   ],
   "source": [
    "d = {'Name': ['Ram', 'Shyam'],'Age': ['56', '34'],'Address': ['Kathmandu', 'Bhaktapur']}\n",
    "d['Name'].append('Nabin')\n",
    "d['Age'].append(23)\n",
    "d['Address'].append('Kathmandu')\n",
    "d"
   ]
  },
  {
   "cell_type": "code",
   "execution_count": 6,
   "metadata": {},
   "outputs": [
    {
     "data": {
      "text/plain": [
       "[{'Name': 'Ram', 'Age': 34, 'Address': 'Kathmandu'},\n",
       " {'Name': 'Shyam', 'Age': 24, 'Address': 'Patan'},\n",
       " {'Name': 'Hari', 'Age': 42, 'Address': 'Bhaktapur'}]"
      ]
     },
     "execution_count": 6,
     "metadata": {},
     "output_type": "execute_result"
    }
   ],
   "source": [
    "#dict inside list\n",
    "a = [{'Name':'Ram','Age':34,'Address':'Kathmandu'},\n",
    "   {'Name':'Shyam','Age':24,'Address':'Patan'},\n",
    "    {'Name':'Hari','Age':42,'Address':'Bhaktapur'}]\n",
    "a"
   ]
  },
  {
   "cell_type": "code",
   "execution_count": 8,
   "metadata": {},
   "outputs": [
    {
     "data": {
      "text/plain": [
       "list"
      ]
     },
     "execution_count": 8,
     "metadata": {},
     "output_type": "execute_result"
    }
   ],
   "source": [
    "type(a)"
   ]
  },
  {
   "cell_type": "code",
   "execution_count": 7,
   "metadata": {},
   "outputs": [
    {
     "name": "stdout",
     "output_type": "stream",
     "text": [
      "{'Name': 'Ram', 'Age': 34, 'Address': 'Kathmandu'}\n",
      "{'Name': 'Shyam', 'Age': 24, 'Address': 'Patan'}\n",
      "{'Name': 'Hari', 'Age': 42, 'Address': 'Bhaktapur'}\n"
     ]
    }
   ],
   "source": [
    "for i in a:\n",
    "    print(i)"
   ]
  },
  {
   "cell_type": "code",
   "execution_count": 11,
   "metadata": {},
   "outputs": [
    {
     "data": {
      "text/plain": [
       "{'Name': 'Hari', 'Age': 42, 'Address': 'Bhaktapur'}"
      ]
     },
     "execution_count": 11,
     "metadata": {},
     "output_type": "execute_result"
    }
   ],
   "source": [
    "#dict inside list\n",
    "a = [{'Name':'Ram','Age':34,'Address':'Kathmandu'},\n",
    "   {'Name':'Shyam','Age':24,'Address':'Patan'},\n",
    "    {'Name':'Hari','Age':42,'Address':'Bhaktapur'}]\n",
    "a[2]"
   ]
  },
  {
   "cell_type": "code",
   "execution_count": 13,
   "metadata": {},
   "outputs": [
    {
     "name": "stdout",
     "output_type": "stream",
     "text": [
      "{'Name': 'Ram', 'Age': 34, 'Address': 'Kathmandu'}\n",
      "{'Name': 'Shyam', 'Age': 24, 'Address': 'Patan'}\n",
      "{'Name': 'Hari', 'Age': 42, 'Address': 'Bhaktapur'}\n"
     ]
    }
   ],
   "source": [
    "for i in range(len(a)):\n",
    "    print(a[i])"
   ]
  },
  {
   "cell_type": "code",
   "execution_count": 14,
   "metadata": {},
   "outputs": [
    {
     "data": {
      "text/plain": [
       "[{'Name': 'Ram', 'Age': 34, 'Address': 'Kathmandu'},\n",
       " {'Name': 'Shyam', 'Age': 24, 'Address': 'Patan'},\n",
       " {'Name': 'Hari', 'Age': 42, 'Address': 'Bhaktapur'},\n",
       " {'Name': 'Akash', 'Age': 14, 'Address': 'Kathmandu'}]"
      ]
     },
     "execution_count": 14,
     "metadata": {},
     "output_type": "execute_result"
    }
   ],
   "source": [
    "a.append({'Name': 'Akash', 'Age': 14, 'Address': 'Kathmandu'})\n",
    "a"
   ]
  },
  {
   "cell_type": "code",
   "execution_count": 15,
   "metadata": {},
   "outputs": [
    {
     "name": "stdout",
     "output_type": "stream",
     "text": [
      "Enter n = 2\n",
      "Enter nameRam\n",
      "Enter age 78\n",
      "Enter addkathmandu\n",
      "Enter nameShyam\n",
      "Enter age 23\n",
      "Enter addBhaktapur\n",
      "[{'Name': 'Ram', 'Age': '78', 'Address': 'kathmandu'}, {'Name': 'Shyam', 'Age': '23', 'Address': 'Bhaktapur'}]\n"
     ]
    }
   ],
   "source": [
    "data = []\n",
    "n = int(input(\"Enter n = \"))\n",
    "for i in range(n):\n",
    "    name = input(\"Enter name\")\n",
    "    age = input(\"Enter age \")\n",
    "    add = input(\"Enter add\")\n",
    "    info = {\"Name\":name,\"Age\":age,\"Address\":add}\n",
    "    data.append(info)\n",
    "    \n",
    "print(data)"
   ]
  },
  {
   "cell_type": "code",
   "execution_count": 16,
   "metadata": {},
   "outputs": [
    {
     "data": {
      "text/plain": [
       "[{'Name': 'Ram', 'Age': '78', 'Address': ['kathmandu', 'Dolkha']},\n",
       " {'Name': 'Shyam', 'Age': '23', 'Address': ['Bhaktapur', 'Kavre']}]"
      ]
     },
     "execution_count": 16,
     "metadata": {},
     "output_type": "execute_result"
    }
   ],
   "source": [
    "a = [{'Name': 'Ram', 'Age': '78', 'Address': ['kathmandu','Dolkha']}, \n",
    "     {'Name': 'Shyam', 'Age': '23', 'Address': ['Bhaktapur','Kavre']}]\n",
    "a\n"
   ]
  },
  {
   "cell_type": "code",
   "execution_count": 22,
   "metadata": {},
   "outputs": [
    {
     "data": {
      "text/plain": [
       "{1: {'Name': 'Ram', 'Age': '78', 'Address': 'kathmandu'},\n",
       " 2: {'Name': 'Shyam', 'Age': '23', 'Address': 'Bhaktapur'}}"
      ]
     },
     "execution_count": 22,
     "metadata": {},
     "output_type": "execute_result"
    }
   ],
   "source": [
    "a = {1:{'Name': 'Ram', 'Age': '78', 'Address': 'kathmandu'}, \n",
    "     2:{'Name': 'Shyam', 'Age': '23', 'Address': 'Bhaktapur'}}\n",
    "a"
   ]
  },
  {
   "cell_type": "code",
   "execution_count": 23,
   "metadata": {},
   "outputs": [
    {
     "data": {
      "text/plain": [
       "{1: {'Name': 'Ram', 'Age': '78', 'Address': 'kathmandu'},\n",
       " 2: {'Name': 'Shyam', 'Age': '23', 'Address': 'Bhaktapur'},\n",
       " 3: {'Name': 'Nabin', 'Age': '53', 'Address': 'lalitpur'}}"
      ]
     },
     "execution_count": 23,
     "metadata": {},
     "output_type": "execute_result"
    }
   ],
   "source": [
    "a[3] = {'Name': 'Nabin', 'Age': '53', 'Address': 'lalitpur'}\n",
    "a"
   ]
  },
  {
   "cell_type": "code",
   "execution_count": 24,
   "metadata": {},
   "outputs": [
    {
     "data": {
      "text/plain": [
       "{1: {'Name': 'Rama', 'Age': '78', 'Address': 'kathmandu'},\n",
       " 2: {'Name': 'Shyam', 'Age': '23', 'Address': 'Bhaktapur'},\n",
       " 3: {'Name': 'Nabin', 'Age': '53', 'Address': 'lalitpur'}}"
      ]
     },
     "execution_count": 24,
     "metadata": {},
     "output_type": "execute_result"
    }
   ],
   "source": [
    "a[1]['Name'] = 'Rama'\n",
    "a"
   ]
  },
  {
   "cell_type": "code",
   "execution_count": 27,
   "metadata": {},
   "outputs": [
    {
     "name": "stdout",
     "output_type": "stream",
     "text": [
      "Enter n = 2\n",
      "Enter nameRam\n",
      "Enter age 34\n",
      "Enter addKathmandu\n",
      "Enter nameShyam\n",
      "Enter age 12\n",
      "Enter addPatan\n",
      "{1: {'Name': 'Ram', 'Age': '34', 'Address': 'Kathmandu'}, 2: {'Name': 'Shyam', 'Age': '12', 'Address': 'Patan'}}\n"
     ]
    }
   ],
   "source": [
    "data = {}\n",
    "n = int(input(\"Enter n = \"))\n",
    "for i in range(1,n+1):\n",
    "    name = input(\"Enter name\")\n",
    "    age = input(\"Enter age \")\n",
    "    add = input(\"Enter add\")\n",
    "#     data[name] = {\"Age\":age,\"Address\":add}\n",
    "    data[i] = {\"Name\":name,\"Age\":age,\"Address\":add}\n",
    "print(data)"
   ]
  },
  {
   "cell_type": "code",
   "execution_count": 28,
   "metadata": {},
   "outputs": [
    {
     "data": {
      "text/plain": [
       "{2: {'Name': 'Shyam', 'Age': '12', 'Address': 'Patan'}}"
      ]
     },
     "execution_count": 28,
     "metadata": {},
     "output_type": "execute_result"
    }
   ],
   "source": [
    "del data[1]\n",
    "data"
   ]
  },
  {
   "cell_type": "code",
   "execution_count": 35,
   "metadata": {},
   "outputs": [
    {
     "data": {
      "text/plain": [
       "{1: {'Age': '34', 'Address': 'Kathmandu'},\n",
       " 2: {'Name': 'Shyam', 'Age': '12', 'Address': 'Patan'}}"
      ]
     },
     "execution_count": 35,
     "metadata": {},
     "output_type": "execute_result"
    }
   ],
   "source": [
    "a = {1: {'Name': 'Ram', 'Age': '34', 'Address': 'Kathmandu'}, \n",
    "     2: {'Name': 'Shyam', 'Age': '12', 'Address': 'Patan'}}\n",
    "del a[1]['Name']\n",
    "a"
   ]
  },
  {
   "cell_type": "code",
   "execution_count": 37,
   "metadata": {},
   "outputs": [
    {
     "data": {
      "text/plain": [
       "{}"
      ]
     },
     "execution_count": 37,
     "metadata": {},
     "output_type": "execute_result"
    }
   ],
   "source": [
    "a.clear()\n",
    "a"
   ]
  },
  {
   "cell_type": "code",
   "execution_count": 41,
   "metadata": {},
   "outputs": [
    {
     "name": "stdout",
     "output_type": "stream",
     "text": [
      "{1: {'Name': 'Ram', 'Age': '34', 'Address': {'Per': 'Kathmandu', 'Temp': 'Patan'}}, 2: {'Name': 'Shyam', 'Age': '12', 'Address': {'Per': 'Patan', 'Temp': 'Bara'}}}\n"
     ]
    }
   ],
   "source": [
    "a = {1: {'Name': 'Ram', 'Age': '34', 'Address': {'Per':'Kathmandu','Temp':'Patan'}}, \n",
    "     2: {'Name': 'Shyam', 'Age': '12', 'Address': {'Per':'Patan','Temp':'Bara'}}}\n",
    "print(a)"
   ]
  },
  {
   "cell_type": "code",
   "execution_count": null,
   "metadata": {},
   "outputs": [],
   "source": [
    "# WAP for billing application (product name,price,quantity,total) by using dic and list\n",
    "# WAP for result management system (marks,total,per,grade) by using dict inside dict"
   ]
  }
 ],
 "metadata": {
  "kernelspec": {
   "display_name": "Python 3 (ipykernel)",
   "language": "python",
   "name": "python3"
  },
  "language_info": {
   "codemirror_mode": {
    "name": "ipython",
    "version": 3
   },
   "file_extension": ".py",
   "mimetype": "text/x-python",
   "name": "python",
   "nbconvert_exporter": "python",
   "pygments_lexer": "ipython3",
   "version": "3.7.1"
  }
 },
 "nbformat": 4,
 "nbformat_minor": 2
}
